{
  "nbformat": 4,
  "nbformat_minor": 0,
  "metadata": {
    "colab": {
      "provenance": []
    },
    "kernelspec": {
      "name": "python3",
      "display_name": "Python 3"
    },
    "language_info": {
      "name": "python"
    }
  },
  "cells": [
    {
      "cell_type": "markdown",
      "source": [
        "# 프로그래머스"
      ],
      "metadata": {
        "id": "Dj46OeuYQPnE"
      }
    },
    {
      "cell_type": "markdown",
      "source": [
        "## 연습문제 - Lv.1"
      ],
      "metadata": {
        "id": "3gdL8b8KQb5K"
      }
    },
    {
      "cell_type": "markdown",
      "source": [
        "제일 작은 수 제거하기"
      ],
      "metadata": {
        "id": "p6oBvhvIpqQE"
      }
    },
    {
      "cell_type": "code",
      "execution_count": null,
      "metadata": {
        "id": "mAIWS9POpSnu"
      },
      "outputs": [],
      "source": [
        "def solution(arr):\n",
        "    arr.remove(min(arr))\n",
        "    \n",
        "    if not arr :\n",
        "        arr = [-1]\n",
        "        \n",
        "    return arr"
      ]
    },
    {
      "cell_type": "code",
      "source": [
        "# 다른 사람 코드\n",
        "\n",
        "def rm_small(mylist):\n",
        "    return [i for i in mylist if i > min(mylist)]"
      ],
      "metadata": {
        "id": "Wg-pMJcVQGid"
      },
      "execution_count": null,
      "outputs": []
    },
    {
      "cell_type": "markdown",
      "source": [
        "콜라 문제"
      ],
      "metadata": {
        "id": "v2oBBjfHrYEO"
      }
    },
    {
      "cell_type": "code",
      "source": [
        "def solution(a, b, n):\n",
        "    answer = 0\n",
        "    \n",
        "    while True :\n",
        "        if n >= a :\n",
        "            answer += ((n//a) * b)\n",
        "            n = (n%a) + ((n//a) * b)\n",
        "        else :\n",
        "            break\n",
        "    \n",
        "    return answer"
      ],
      "metadata": {
        "id": "2QBARC5HFLCo"
      },
      "execution_count": null,
      "outputs": []
    },
    {
      "cell_type": "code",
      "source": [
        "# 다른 사람 풀이\n",
        "\n",
        "solution = lambda a, b, n: max(n - b,0) // (a - b) * b"
      ],
      "metadata": {
        "id": "xJcxwkpUFK95"
      },
      "execution_count": null,
      "outputs": []
    },
    {
      "cell_type": "markdown",
      "source": [
        "푸드 파이트 대회"
      ],
      "metadata": {
        "id": "pw6w119BZUTW"
      }
    },
    {
      "cell_type": "code",
      "source": [
        "def solution(food): \n",
        "    answer = ''   \n",
        "    for i in range(1,4) :\n",
        "        answer += str(i) * (food[i]//2)\n",
        "    tmp = answer[::-1]    \n",
        "    answer += '0'\n",
        "    answer += tmp   \n",
        "    return answer"
      ],
      "metadata": {
        "id": "_jUTLJOgUlcY"
      },
      "execution_count": null,
      "outputs": []
    },
    {
      "cell_type": "code",
      "source": [
        "# 다른 사람 풀이\n",
        "def solution(food):\n",
        "    answer = ''\n",
        "    for i,n in enumerate(food[1:]):\n",
        "        answer += str(i+1) * (n//2)\n",
        "    return answer + \"0\" + answer[::-1]"
      ],
      "metadata": {
        "id": "DM_j-teuaDD2"
      },
      "execution_count": null,
      "outputs": []
    },
    {
      "cell_type": "markdown",
      "source": [
        "숫자 짝궁"
      ],
      "metadata": {
        "id": "D_oVS5Cfebzb"
      }
    },
    {
      "cell_type": "code",
      "source": [
        "def cnt(str) :\n",
        "    out = {}\n",
        "    for s in str :\n",
        "        if s not in out :\n",
        "            out[s] = 1\n",
        "        else :\n",
        "            out[s] += 1\n",
        "    return dict(sorted(out.items(), reverse=True))\n",
        "\n",
        "\n",
        "def solution(X, Y):\n",
        "    answer = ''\n",
        "    \n",
        "    x = cnt(X)\n",
        "    y = cnt(Y)\n",
        "\n",
        "    for i in x :\n",
        "        if i in y:\n",
        "            answer += (i * min(x[i],y[i]))   \n",
        "    \n",
        "    if not answer :\n",
        "        answer = '-1'       \n",
        "    \n",
        "    elif not answer.replace('0','') :\n",
        "        answer = '0'\n",
        "\n",
        "    return answer"
      ],
      "metadata": {
        "id": "HUUMDL9-ecmX"
      },
      "execution_count": null,
      "outputs": []
    },
    {
      "cell_type": "code",
      "source": [
        "# 다른 사람 풀이\n",
        "\n",
        "def solution(X, Y):\n",
        "    answer = ''\n",
        "\n",
        "    for i in range(9,-1,-1) :\n",
        "        answer += (str(i) * min(X.count(str(i)), Y.count(str(i))))\n",
        "\n",
        "    if answer == '' :\n",
        "        return '-1'\n",
        "    elif len(answer) == answer.count('0'):\n",
        "        return '0'\n",
        "    else :\n",
        "        return answer"
      ],
      "metadata": {
        "id": "lYX2lo4DODEB"
      },
      "execution_count": null,
      "outputs": []
    },
    {
      "cell_type": "markdown",
      "source": [
        "햄버거 만들기"
      ],
      "metadata": {
        "id": "y9kiz45-yDPR"
      }
    },
    {
      "cell_type": "code",
      "source": [
        "def solution(ingredient):\n",
        "    \n",
        "    answer = 0\n",
        "    ingr = []\n",
        "      \n",
        "    for i in ingredient :\n",
        "        ingr.append(i)\n",
        "        if ingr[-4:] == [1,2,3,1] :\n",
        "            answer += 1 \n",
        "            del ingr[-4:]\n",
        "            \n",
        "    return answer"
      ],
      "metadata": {
        "id": "IlaWG02NyECw"
      },
      "execution_count": null,
      "outputs": []
    },
    {
      "cell_type": "code",
      "source": [
        "# 다른 사람 풀이\n",
        "\n",
        "def solution(ingredient):\n",
        "    s = []\n",
        "    cnt = 0\n",
        "    for i in ingredient:\n",
        "        s.append(i)\n",
        "        if s[-4:] == [1, 2, 3, 1]:\n",
        "            cnt += 1\n",
        "            for i in range(4):\n",
        "                s.pop()\n",
        "    return cnt"
      ],
      "metadata": {
        "id": "bjAnF-MKyIkX"
      },
      "execution_count": null,
      "outputs": []
    },
    {
      "cell_type": "markdown",
      "source": [
        "삼총사"
      ],
      "metadata": {
        "id": "61Xp84FqRMcq"
      }
    },
    {
      "cell_type": "code",
      "source": [
        "from itertools import combinations\n",
        "\n",
        "def solution(number):\n",
        "    \n",
        "    num3 = list(combinations(number,3))\n",
        "\n",
        "    answer = [1 for n in num3 if sum(n) == 0]\n",
        "    \n",
        "    return sum(answer)"
      ],
      "metadata": {
        "id": "1c2p8_yHRNbY"
      },
      "execution_count": null,
      "outputs": []
    },
    {
      "cell_type": "code",
      "source": [
        "# 다른 사람 풀이\n",
        "\n",
        "def solution (number) :\n",
        "    from itertools import combinations\n",
        "    cnt = 0\n",
        "    for i in combinations(number,3) :\n",
        "        if sum(i) == 0 :\n",
        "            cnt += 1\n",
        "    return cnt"
      ],
      "metadata": {
        "id": "L3kSGUEGRNJJ"
      },
      "execution_count": null,
      "outputs": []
    },
    {
      "cell_type": "markdown",
      "source": [
        "기사단원의 무기"
      ],
      "metadata": {
        "id": "BSJYr2B0AiEJ"
      }
    },
    {
      "cell_type": "code",
      "source": [
        "def cal(num) :\n",
        "    out = 0    \n",
        "    for i in range(1, int(num**(1/2))+1) :\n",
        "        if num % i == 0 :\n",
        "            out += 2\n",
        "            if i**2 == num :\n",
        "                out -= 1\n",
        "    return out\n",
        "\n",
        "def solution(number, limit, power): \n",
        "    answer = [cal(num) if (cal(num)<=limit) else power for num in range(1,number+1)]    \n",
        "    return sum(answer)"
      ],
      "metadata": {
        "id": "LgYHyLs4Ai55"
      },
      "execution_count": null,
      "outputs": []
    },
    {
      "cell_type": "code",
      "source": [
        "# 다른 사람 풀이\n",
        "\n",
        "def cf(n): # 공약수 출력\n",
        "    a = []\n",
        "    for i in range(1,int(n**0.5)+1):\n",
        "        if n%i == 0:\n",
        "            a.append(n//i)\n",
        "            a.append(i)\n",
        "    return len(set(a))\n",
        "def solution(number, limit, power):\n",
        "    return sum([cf(i) if cf(i)<=limit else power for i in range(1,number+1)])"
      ],
      "metadata": {
        "id": "XvVXJljiAjcj"
      },
      "execution_count": null,
      "outputs": []
    },
    {
      "cell_type": "markdown",
      "source": [
        "과일 장수"
      ],
      "metadata": {
        "id": "zrjF_YFVDV2S"
      }
    },
    {
      "cell_type": "code",
      "source": [
        "def solution(k, m, score):\n",
        "    \n",
        "    answer = 0    \n",
        "    score = sorted(score, reverse=True)\n",
        "    \n",
        "    for i in range(0,len(score)+1, m):\n",
        "        if len(score[i:i+m]) == m :\n",
        "            answer += (min(score[i:i+m]) * m)\n",
        "        \n",
        "    return answer"
      ],
      "metadata": {
        "id": "8ZR7CtCUDW5s"
      },
      "execution_count": null,
      "outputs": []
    },
    {
      "cell_type": "code",
      "source": [
        "# 다른 사람 풀이\n",
        "\n",
        "\n",
        "def solution(k, m, score):\n",
        "    return sum(sorted(score)[len(score)%m::m])*m"
      ],
      "metadata": {
        "id": "GQ8lOTrXDfZf"
      },
      "execution_count": null,
      "outputs": []
    },
    {
      "cell_type": "markdown",
      "source": [
        "명예의 전당(1)"
      ],
      "metadata": {
        "id": "eecon0NnRIHI"
      }
    },
    {
      "cell_type": "code",
      "source": [
        "def solution(k, score):\n",
        "    answer = []\n",
        "    tmp = []\n",
        "    for s in score:\n",
        "        tmp.append(s)\n",
        "        tmp = sorted(tmp)\n",
        "        if len(tmp) > k :\n",
        "            tmp = tmp[-k:]\n",
        "        answer.append(min(tmp))\n",
        "    return answer"
      ],
      "metadata": {
        "id": "jATl9y-nUXax"
      },
      "execution_count": null,
      "outputs": []
    },
    {
      "cell_type": "code",
      "source": [
        "# 다른 사람 풀이\n",
        "\n",
        "def solution(k, score):\n",
        "\n",
        "    q = []\n",
        "\n",
        "    answer = []\n",
        "    for s in score:\n",
        "\n",
        "        q.append(s)\n",
        "        if (len(q) > k):\n",
        "            q.remove(min(q))\n",
        "        answer.append(min(q))\n",
        "\n",
        "    return answer"
      ],
      "metadata": {
        "id": "qYGQrQ1DZF9h"
      },
      "execution_count": null,
      "outputs": []
    }
  ]
}