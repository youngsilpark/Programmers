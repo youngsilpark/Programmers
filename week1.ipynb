{
  "nbformat": 4,
  "nbformat_minor": 0,
  "metadata": {
    "colab": {
      "provenance": []
    },
    "kernelspec": {
      "name": "python3",
      "display_name": "Python 3"
    },
    "language_info": {
      "name": "python"
    }
  },
  "cells": [
    {
      "cell_type": "markdown",
      "source": [
        "# 프로그래머스"
      ],
      "metadata": {
        "id": "Sd8KfsxQYanb"
      }
    },
    {
      "cell_type": "markdown",
      "source": [
        "## Level1"
      ],
      "metadata": {
        "id": "7uMMpQT_YfzQ"
      }
    },
    {
      "cell_type": "markdown",
      "source": [
        "문자열 다루기 기본"
      ],
      "metadata": {
        "id": "Ndq5DkStYpnt"
      }
    },
    {
      "cell_type": "code",
      "source": [
        "import re\n",
        "\n",
        "def solution(s):\n",
        "    l = len(s)\n",
        "    cond1 = (l == 4 or l == 6)\n",
        "    \n",
        "    com = re.compile('[^0-9]')\n",
        "    not_num = com.findall(s)\n",
        "    cond2 = (not_num == [])\n",
        "    \n",
        "    if cond1 and cond2 :\n",
        "        answer = True \n",
        "    else :\n",
        "        answer = False\n",
        "    \n",
        "    return answer"
      ],
      "metadata": {
        "id": "pmzydg2tYoZ5"
      },
      "execution_count": null,
      "outputs": []
    },
    {
      "cell_type": "code",
      "source": [
        "# 다른 사람 풀이\n",
        "\n",
        "def alpha_string46(s):\n",
        "    #함수를 완성하세요\n",
        "    return s.isdigit() and len(s) in [4,6]\n",
        "\n",
        "\n",
        "# 아래는 테스트로 출력해 보기 위한 코드입니다.\n",
        "print( alpha_string46(\"a234\") )\n",
        "print( alpha_string46(\"1234\") )"
      ],
      "metadata": {
        "colab": {
          "base_uri": "https://localhost:8080/"
        },
        "id": "D2Ln4SLHZybZ",
        "outputId": "16dc135d-2332-4bb2-b69b-f6009d461903"
      },
      "execution_count": null,
      "outputs": [
        {
          "output_type": "stream",
          "name": "stdout",
          "text": [
            "False\n",
            "True\n"
          ]
        }
      ]
    },
    {
      "cell_type": "markdown",
      "source": [
        "문자열 내 마음대로 정렬하기"
      ],
      "metadata": {
        "id": "QSoTvV2cYrsB"
      }
    },
    {
      "cell_type": "code",
      "source": [
        "def solution(strings, n):\n",
        "    \n",
        "    strings.sort()\n",
        "\n",
        "    return  sorted(strings, key = lambda x:x[n])"
      ],
      "metadata": {
        "id": "26X4YpuXaZs1"
      },
      "execution_count": null,
      "outputs": []
    },
    {
      "cell_type": "code",
      "source": [
        "# 다른 사람 풀이\n",
        "\n",
        "def strange_sort(strings, n):\n",
        "    '''strings의 문자열들을 n번째 글자를 기준으로 정렬해서 return하세요'''\n",
        "    return sorted(strings, key=lambda x: x[n])\n",
        "strings = [\"sun\", \"bed\", \"car\"] \n",
        "print(strange_sort(strings, 1))"
      ],
      "metadata": {
        "colab": {
          "base_uri": "https://localhost:8080/"
        },
        "id": "CogUG5k4aaxE",
        "outputId": "52f9fa0c-e187-40e3-d9ad-dfb1a3f89f65"
      },
      "execution_count": null,
      "outputs": [
        {
          "output_type": "stream",
          "name": "stdout",
          "text": [
            "['car', 'bed', 'sun']\n"
          ]
        }
      ]
    },
    {
      "cell_type": "markdown",
      "source": [
        "문자열 내림차순으로 배치하기"
      ],
      "metadata": {
        "id": "onk52_BRYvO2"
      }
    },
    {
      "cell_type": "code",
      "source": [
        "def solution(s):\n",
        "    answer = ''.join(sorted(s, reverse=True))\n",
        "    return answer"
      ],
      "metadata": {
        "id": "4sWJcRcjZ6uF"
      },
      "execution_count": null,
      "outputs": []
    },
    {
      "cell_type": "code",
      "source": [
        "# 다른 사람 풀이\n",
        "\n",
        "def solution(s):\n",
        "    return ''.join(sorted(s, reverse=True))"
      ],
      "metadata": {
        "id": "OVFJeGBPZ8zw"
      },
      "execution_count": null,
      "outputs": []
    },
    {
      "cell_type": "markdown",
      "source": [
        "가운데 글자 가져오기"
      ],
      "metadata": {
        "id": "TPd2TV5ZYxjI"
      }
    },
    {
      "cell_type": "code",
      "source": [
        "def solution(s):\n",
        "    \n",
        "    n = (len(s)//2)\n",
        "    \n",
        "    if (len(s) % 2) == 1 :\n",
        "        answer = s[n]\n",
        "    else :\n",
        "        answer = s[n-1 : n+1]\n",
        "    return answer"
      ],
      "metadata": {
        "colab": {
          "base_uri": "https://localhost:8080/"
        },
        "id": "Z6NzWgasaOmM",
        "outputId": "48ab1ad0-b7ee-435d-cb2d-9525f2972d37"
      },
      "execution_count": null,
      "outputs": [
        {
          "output_type": "stream",
          "name": "stdout",
          "text": [
            "w\n"
          ]
        }
      ]
    },
    {
      "cell_type": "code",
      "source": [
        "# 다른 사람 풀이\n",
        "\n",
        "def string_middle(str):\n",
        "    return str[(len(str)-1)//2 : len(str)//2 + 1]\n",
        "\n",
        "# 아래는 테스트로 출력해 보기 위한 코드입니다.\n",
        "print(string_middle(\"power\"))"
      ],
      "metadata": {
        "colab": {
          "base_uri": "https://localhost:8080/"
        },
        "id": "_2KDdCwJaPEp",
        "outputId": "89f55cc5-be55-4425-e1ac-e61327120908"
      },
      "execution_count": null,
      "outputs": [
        {
          "output_type": "stream",
          "name": "stdout",
          "text": [
            "w\n"
          ]
        }
      ]
    },
    {
      "cell_type": "markdown",
      "source": [
        "문자열 내 p와 y의 개수"
      ],
      "metadata": {
        "id": "O3yJHd5_YyfT"
      }
    },
    {
      "cell_type": "code",
      "source": [
        "def solution(s):\n",
        "    \n",
        "    s = s.lower()\n",
        "    \n",
        "    return s.count('p') == s.count('y')"
      ],
      "metadata": {
        "id": "rKCkVAHTaDuO"
      },
      "execution_count": null,
      "outputs": []
    },
    {
      "cell_type": "code",
      "source": [
        "# 다른 사람 풀이\n",
        "\n",
        "def numPY(s):\n",
        "    # 함수를 완성하세요\n",
        "    return s.lower().count('p') == s.lower().count('y')\n",
        "\n",
        "\n",
        "# 아래는 테스트로 출력해 보기 위한 코드입니다.\n",
        "print( numPY(\"pPoooyY\") )\n",
        "print( numPY(\"Pyy\") )"
      ],
      "metadata": {
        "colab": {
          "base_uri": "https://localhost:8080/"
        },
        "id": "ePLhsRXbaGfW",
        "outputId": "80257e21-20e8-497a-e2b3-3d6043b71dee"
      },
      "execution_count": null,
      "outputs": [
        {
          "output_type": "stream",
          "name": "stdout",
          "text": [
            "True\n",
            "False\n"
          ]
        }
      ]
    },
    {
      "cell_type": "markdown",
      "source": [
        "실패율"
      ],
      "metadata": {
        "id": "os6inHFeY1PY"
      }
    },
    {
      "cell_type": "code",
      "source": [
        "def solution(N, stages):\n",
        "\n",
        "    result = {}\n",
        "\n",
        "    s = len(stages)\n",
        "\n",
        "    for n in range(1, N+1) :\n",
        "        cnt = stages.count(n)\n",
        "        if cnt == 0 :\n",
        "            result[n] = 0\n",
        "        else :\n",
        "            result[n] = cnt / s\n",
        "        s -= cnt\n",
        "\n",
        "    return sorted(result,key=lambda x:result[x], reverse= True)"
      ],
      "metadata": {
        "id": "w7t5tu3Ea0sW"
      },
      "execution_count": null,
      "outputs": []
    },
    {
      "cell_type": "code",
      "source": [
        "# 다른 사람 풀이\n",
        "\n",
        "def solution(N, stages):\n",
        "    result = {}\n",
        "    denominator = len(stages)\n",
        "    for stage in range(1, N+1):\n",
        "        if denominator != 0:\n",
        "            count = stages.count(stage)\n",
        "            result[stage] = count / denominator\n",
        "            denominator -= count\n",
        "        else:\n",
        "            result[stage] = 0\n",
        "    return sorted(result, key=lambda x : result[x], reverse=True)"
      ],
      "metadata": {
        "id": "3OT-GPuRa1M0"
      },
      "execution_count": null,
      "outputs": []
    },
    {
      "cell_type": "markdown",
      "source": [
        "같은 숫자는 싫어"
      ],
      "metadata": {
        "id": "myORn4j1Y2jd"
      }
    },
    {
      "cell_type": "code",
      "source": [
        "def solution(arr):\n",
        "    \n",
        "    answer = [arr[i-1] for i in range(1,len(arr)) if arr[i] != arr[i-1]]\n",
        "    answer.append(arr[-1])\n",
        "    \n",
        "    return answer"
      ],
      "metadata": {
        "id": "fxdwMwGCapkI"
      },
      "execution_count": null,
      "outputs": []
    },
    {
      "cell_type": "code",
      "source": [
        "# 다른 사람 풀이\n",
        "\n",
        "def no_continuous(s):\n",
        "    # 함수를 완성하세요\n",
        "    a = []\n",
        "    for i in s:\n",
        "        if a[-1:] == [i]: continue\n",
        "        a.append(i)\n",
        "    return a\n",
        "\n",
        "# 아래는 테스트로 출력해 보기 위한 코드입니다.\n",
        "print( no_continuous( \"133303\" ))"
      ],
      "metadata": {
        "colab": {
          "base_uri": "https://localhost:8080/"
        },
        "id": "d_cCJHxuap2y",
        "outputId": "44afba4f-f946-4d5f-9226-f370361cdf8c"
      },
      "execution_count": null,
      "outputs": [
        {
          "output_type": "stream",
          "name": "stdout",
          "text": [
            "['1', '3', '0', '3']\n"
          ]
        }
      ]
    },
    {
      "cell_type": "markdown",
      "source": [
        "나누어 떨어지는 숫자 배열"
      ],
      "metadata": {
        "id": "SDSz6LbOY3uv"
      }
    },
    {
      "cell_type": "code",
      "source": [
        "def solution(arr, divisor):\n",
        "    arr = sorted(arr)\n",
        "    \n",
        "    answer = [i for i in arr if i % divisor == 0]\n",
        "    \n",
        "    if not answer :\n",
        "        answer.append(-1)\n",
        "    \n",
        "    \n",
        "    return answer"
      ],
      "metadata": {
        "id": "O_Wyq_TJbInl"
      },
      "execution_count": null,
      "outputs": []
    },
    {
      "cell_type": "code",
      "source": [
        "# 다른 사람 풀이\n",
        "\n",
        "def solution(arr, divisor): return sorted([n for n in arr if n%divisor == 0]) or [-1]"
      ],
      "metadata": {
        "id": "f0qu073jbI_i"
      },
      "execution_count": null,
      "outputs": []
    },
    {
      "cell_type": "markdown",
      "source": [
        "콜라츠 추측"
      ],
      "metadata": {
        "id": "7X9mcnEtY4w7"
      }
    },
    {
      "cell_type": "code",
      "source": [
        "def solution(num):\n",
        "    answer = 0\n",
        "    for _ in range(500) :\n",
        "        if num == 1 :\n",
        "            break\n",
        "        elif num % 2 == 0 :\n",
        "            num = num //2\n",
        "        else :\n",
        "            num *= 3\n",
        "            num += 1     \n",
        "        answer += 1\n",
        "    \n",
        "    if num != 1 :\n",
        "        answer = -1\n",
        "    \n",
        "    return answer"
      ],
      "metadata": {
        "id": "CoRzguWdZMu0"
      },
      "execution_count": null,
      "outputs": []
    },
    {
      "cell_type": "code",
      "source": [
        "# 다른 사람 풀이\n",
        "\n",
        "def collatz(num):\n",
        "    for i in range(500):\n",
        "        num=num/2 if num%2==0 else num*3+1\n",
        "        if num==1:\n",
        "            return i+1\n",
        "    return -1\n",
        "\n",
        "# 아래는 테스트로 출력해 보기 위한 코드입니다.\n",
        "print(collatz(78))"
      ],
      "metadata": {
        "id": "7JtQ1xRcZThv"
      },
      "execution_count": null,
      "outputs": []
    },
    {
      "cell_type": "markdown",
      "source": [
        "하샤드 수"
      ],
      "metadata": {
        "id": "H_AGNHzYY51T"
      }
    },
    {
      "cell_type": "code",
      "source": [
        "def solution(x):\n",
        "    sum_x = 0\n",
        "    for i in str(x) :\n",
        "        sum_x += int(i)\n",
        "    \n",
        "    answer = True if x % sum_x == 0 else False\n",
        "    \n",
        "    return answer"
      ],
      "metadata": {
        "id": "1cpe0n6ka7AS"
      },
      "execution_count": null,
      "outputs": []
    },
    {
      "cell_type": "code",
      "source": [
        "# 다른 사람 풀이\n",
        "\n",
        "def Harshad(n):\n",
        "    return n%sum(int(x) for x in str(n)) == 0\n",
        "\n",
        "# 아래는 테스트로 출력해 보기 위한 코드입니다.\n",
        "print(Harshad(18))"
      ],
      "metadata": {
        "id": "D3WxqHKsa_Nt"
      },
      "execution_count": null,
      "outputs": []
    }
  ]
}