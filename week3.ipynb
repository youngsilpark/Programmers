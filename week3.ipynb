{
  "nbformat": 4,
  "nbformat_minor": 0,
  "metadata": {
    "colab": {
      "provenance": []
    },
    "kernelspec": {
      "name": "python3",
      "display_name": "Python 3"
    },
    "language_info": {
      "name": "python"
    }
  },
  "cells": [
    {
      "cell_type": "markdown",
      "source": [
        "## 프로그래머스"
      ],
      "metadata": {
        "id": "IYSfUa1-OxZ_"
      }
    },
    {
      "cell_type": "markdown",
      "source": [
        "숫자 문자열과 영단어 - 2021 카카오 채용연계형 인턴십"
      ],
      "metadata": {
        "id": "yjF2PYaHY7YV"
      }
    },
    {
      "cell_type": "code",
      "source": [
        "def solution(s):\n",
        "\n",
        "    dict = {\"zero\":\"0\", \"one\":\"1\", \"two\":\"2\", \"three\":\"3\", \"four\":\"4\", \"five\":\"5\", \"six\":\"6\", \"seven\":\"7\", \"eight\":\"8\", \"nine\":\"9\"}\n",
        "\n",
        "    for d in dict:\n",
        "        if d in s :\n",
        "            s = s.replace(d, dict[d])\n",
        "\n",
        "    return int(s)"
      ],
      "metadata": {
        "id": "lXmgdEUYY8ne"
      },
      "execution_count": null,
      "outputs": []
    },
    {
      "cell_type": "code",
      "source": [
        "# 다른 사람 풀이\n",
        "\n",
        "num_dic = {\"zero\":\"0\", \"one\":\"1\", \"two\":\"2\", \"three\":\"3\", \"four\":\"4\", \"five\":\"5\", \"six\":\"6\", \"seven\":\"7\", \"eight\":\"8\", \"nine\":\"9\"}\n",
        "\n",
        "def solution(s):\n",
        "    answer = s\n",
        "    for key, value in num_dic.items():\n",
        "        answer = answer.replace(key, value)\n",
        "    return int(answer)"
      ],
      "metadata": {
        "id": "RgM59B2YZAZC"
      },
      "execution_count": null,
      "outputs": []
    },
    {
      "cell_type": "code",
      "source": [
        "# 다른 사람 풀이\n",
        "\n",
        "def solution(s):\n",
        "    words = ['zero', 'one', 'two', 'three', 'four', 'five', 'six', 'seven', 'eight', 'nine']\n",
        "\n",
        "    for i in range(len(words)):\n",
        "        s = s.replace(words[i], str(i))\n",
        "\n",
        "    return int(s)"
      ],
      "metadata": {
        "id": "5gvQHchMZQ6J"
      },
      "execution_count": null,
      "outputs": []
    },
    {
      "cell_type": "markdown",
      "source": [
        "신규 아이디 추천 - 2021 KAKAO BLIND RECRUITMENT\n"
      ],
      "metadata": {
        "id": "GTCAM7oCNOhp"
      }
    },
    {
      "cell_type": "code",
      "execution_count": null,
      "metadata": {
        "id": "sZT6-jk1NLng"
      },
      "outputs": [],
      "source": [
        "def solution(new_id):\n",
        "    import re\n",
        "\n",
        "    new_id = new_id.lower()\n",
        "    \n",
        "    p = re.compile('[a-z0-9-_.]')\n",
        "    new_id = p.findall(new_id)\n",
        "    \n",
        "    answer = ''\n",
        "    for new in new_id :\n",
        "        answer += new\n",
        "    \n",
        "    while '..' in answer : \n",
        "        answer = answer.replace('..', '.')\n",
        "    \n",
        "    answer = answer.strip('.')\n",
        "    \n",
        "    if not answer :\n",
        "        answer = 'a'\n",
        "    \n",
        "    if len(answer) >= 16 :\n",
        "        answer = answer[:15]\n",
        "        answer = answer.rstrip('.')\n",
        "    \n",
        "    while len(answer) < 3 :\n",
        "            answer += answer[-1]\n",
        "\n",
        "    return answer"
      ]
    },
    {
      "cell_type": "code",
      "source": [
        "# 다른 사람 풀이\n",
        "\n",
        "import re\n",
        "\n",
        "def solution(new_id):\n",
        "    st = new_id\n",
        "    st = st.lower()\n",
        "    st = re.sub('[^a-z0-9\\-_.]', '', st)\n",
        "    st = re.sub('\\.+', '.', st)\n",
        "    st = re.sub('^[.]|[.]$', '', st)\n",
        "    st = 'a' if len(st) == 0 else st[:15]\n",
        "    st = re.sub('^[.]|[.]$', '', st)\n",
        "    st = st if len(st) > 2 else st + \"\".join([st[-1] for i in range(3-len(st))])\n",
        "    return st\n"
      ],
      "metadata": {
        "id": "kX3x079pNeYr"
      },
      "execution_count": null,
      "outputs": []
    },
    {
      "cell_type": "markdown",
      "source": [
        "성격 유형 검사하기 - 2022 KAKAO TECH INTERNSHIP"
      ],
      "metadata": {
        "id": "FF98h9N5ZhUd"
      }
    },
    {
      "cell_type": "code",
      "source": [
        "def solution(survey, choices):\n",
        "    \n",
        "    dict = {'R':0,'T':0,'C':0,'F':0,'J':0,'M':0,'A':0,'N':0}\n",
        "    \n",
        "    score_dict = {1:3,2:2,3:1,4:0,5:1,6:2,7:3}\n",
        "    for i in range(len(choices)) :\n",
        "        if choices[i] < 4 :\n",
        "            dict[survey[i][0]] += score_dict[choices[i]]\n",
        "        else :\n",
        "            dict[survey[i][1]] += score_dict[choices[i]]\n",
        "\n",
        "    answer = ''\n",
        "    \n",
        "    type_dict = {'R':'T','C':'F','J':'M','A':'N'} \n",
        "    for t in type_dict :\n",
        "        if dict[t] < dict[type_dict[t]] :\n",
        "            answer += type_dict[t]\n",
        "        else :\n",
        "            answer += t\n",
        "    \n",
        "        \n",
        "    return answer"
      ],
      "metadata": {
        "id": "L_frjqHcZxsa"
      },
      "execution_count": null,
      "outputs": []
    },
    {
      "cell_type": "code",
      "source": [
        "# 다른 사람 풀이\n",
        "\n",
        "def solution(survey, choices):\n",
        "\n",
        "    my_dict = {\"RT\":0,\"CF\":0,\"JM\":0,\"AN\":0}\n",
        "    for A,B in zip(survey,choices):\n",
        "        if A not in my_dict.keys():\n",
        "            A = A[::-1]\n",
        "            my_dict[A] -= B-4\n",
        "        else:\n",
        "            my_dict[A] += B-4\n",
        "\n",
        "    result = \"\"\n",
        "    for name in my_dict.keys():\n",
        "        if my_dict[name] > 0:\n",
        "            result += name[1]\n",
        "        elif my_dict[name] < 0:\n",
        "            result += name[0]\n",
        "        else:\n",
        "            result += sorted(name)[0]\n",
        "\n",
        "    return result"
      ],
      "metadata": {
        "id": "MOBBEGfzgjsF"
      },
      "execution_count": null,
      "outputs": []
    },
    {
      "cell_type": "markdown",
      "source": [
        "신고 결과 받기 - 2023 KAKAO BLIND RECRUITMENT"
      ],
      "metadata": {
        "id": "HyFpXuxexLKo"
      }
    },
    {
      "cell_type": "code",
      "source": [
        "def solution(id_list, report, k):\n",
        "    \n",
        "    cnt_dict = {}\n",
        "    report_dict = {}\n",
        "    \n",
        "    for id in id_list :\n",
        "        cnt_dict[id] = 0\n",
        "        report_dict[id] = []\n",
        "        \n",
        "    for re in set(report) :\n",
        "        cnt_dict[re.split(' ')[1]] += 1        \n",
        "        report_dict[re.split(' ')[0]].append(re.split(' ')[1])\n",
        "    \n",
        "    obj = []\n",
        "    for key, val in cnt_dict.items() :\n",
        "        if val >= k :\n",
        "            obj.append(key)\n",
        "    \n",
        "    answer= []\n",
        "    for val in report_dict.values() :\n",
        "        tmp = 0\n",
        "        for v in val :\n",
        "            if v in obj :\n",
        "                tmp += 1\n",
        "        answer.append(tmp)\n",
        "        \n",
        "    return answer"
      ],
      "metadata": {
        "id": "d_dRP65ExM3c"
      },
      "execution_count": null,
      "outputs": []
    },
    {
      "cell_type": "code",
      "source": [
        "# 다른 사람 코드\n",
        "\n",
        "def solution(id_list, report, k):\n",
        "    answer = [0] * len(id_list)    \n",
        "    reports = {x : 0 for x in id_list}\n",
        "\n",
        "    for r in set(report):\n",
        "        reports[r.split()[1]] += 1\n",
        "\n",
        "    for r in set(report):\n",
        "        if reports[r.split()[1]] >= k:\n",
        "            answer[id_list.index(r.split()[0])] += 1\n",
        "\n",
        "    return answer"
      ],
      "metadata": {
        "id": "97N1krhoxN8U"
      },
      "execution_count": null,
      "outputs": []
    },
    {
      "cell_type": "code",
      "source": [
        "# 다른 사람 코드\n",
        "\n",
        "def solution(id_list, report, k):\n",
        "    answer = [0] * len(id_list)\n",
        "    dic_report = {id: [] for id in id_list} # 해당 유저를 신고한 ID\n",
        "    for i in set(report):\n",
        "        i = i.split()\n",
        "        dic_report[i[1]].append(i[0])\n",
        "\n",
        "    for key, value in dic_report.items():\n",
        "        if len(value) >= k:\n",
        "            for j in value:\n",
        "                answer[id_list.index(j)] += 1\n",
        "\n",
        "    return answer"
      ],
      "metadata": {
        "id": "Bnt13jyLxpmw"
      },
      "execution_count": null,
      "outputs": []
    },
    {
      "cell_type": "markdown",
      "source": [
        "개인정보 수집 유효기간 - 2023 KAKAO BLIND RECRUITMENT"
      ],
      "metadata": {
        "id": "hc_jF_GsgjJX"
      }
    },
    {
      "cell_type": "code",
      "source": [
        "def solution(today, terms, privacies):\n",
        "    \n",
        "    from dateutil.relativedelta import relativedelta\n",
        "    import datetime\n",
        "    \n",
        "    answer = []\n",
        "    \n",
        "    dict = {}\n",
        "    for t in terms :\n",
        "        k = t.split(' ')[0]\n",
        "        v = t.split(' ')[1]\n",
        "        dict[k] = v\n",
        "        \n",
        "    today = today.replace('.','-')\n",
        "    \n",
        "    for i, p in enumerate(privacies) :\n",
        "        date = p.split(' ')[0]\n",
        "        type = p.split(' ')[1]\n",
        "\n",
        "        date = datetime.datetime.strptime(date, '%Y.%m.%d').date()\n",
        "        new_date = date + relativedelta(months = int(dict[type]))\n",
        "\n",
        "        \n",
        "        if str(new_date) <= today :\n",
        "            answer.append(i+1)\n",
        "             \n",
        "    return answer"
      ],
      "metadata": {
        "id": "nM94kdx2i-nQ"
      },
      "execution_count": null,
      "outputs": []
    },
    {
      "cell_type": "code",
      "source": [
        "# 다른 사람 풀이\n",
        "\n",
        "def to_days(date):\n",
        "    year, month, day = map(int, date.split(\".\"))\n",
        "    return year * 28 * 12 + month * 28 + day\n",
        "\n",
        "def solution(today, terms, privacies):\n",
        "    months = {v[0]: int(v[2:]) * 28 for v in terms}\n",
        "    today = to_days(today)\n",
        "    expire = [\n",
        "        i + 1 for i, privacy in enumerate(privacies)\n",
        "        if to_days(privacy[:-2]) + months[privacy[-1]] <= today\n",
        "    ]\n",
        "    return expire"
      ],
      "metadata": {
        "id": "Hqx7083djHjV"
      },
      "execution_count": null,
      "outputs": []
    },
    {
      "cell_type": "code",
      "source": [
        "# 다른 사람 풀이\n",
        "\n",
        "def solution(today, terms, privacies):\n",
        "    answer = []\n",
        "    termdict = {}\n",
        "\n",
        "    for term in terms:\n",
        "        t = term.split(' ')\n",
        "        termdict[t[0]] = int(t[1]) * 28\n",
        "\n",
        "    t = today.split('.')\n",
        "    d = 28 * 12 * int(t[0]) + 28 * int(t[1]) + int(t[2])\n",
        "\n",
        "    for p in range(len(privacies)):\n",
        "        pret = privacies[p].split(' ')\n",
        "        t = pret[0].split('.')\n",
        "        nd = 28 * 12 * int(t[0]) + 28 * int(t[1]) + int(t[2])\n",
        "\n",
        "        if termdict[pret[1]] + nd <= d:\n",
        "            answer.append(p + 1)\n",
        "\n",
        "\n",
        "    return answer"
      ],
      "metadata": {
        "id": "wq6EGy5Pjbew"
      },
      "execution_count": null,
      "outputs": []
    },
    {
      "cell_type": "code",
      "source": [],
      "metadata": {
        "id": "-ZwOSS0kxpi7"
      },
      "execution_count": null,
      "outputs": []
    }
  ]
}
